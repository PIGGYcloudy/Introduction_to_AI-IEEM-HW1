{
 "cells": [
  {
   "cell_type": "code",
   "execution_count": 1,
   "metadata": {},
   "outputs": [
    {
     "name": "stderr",
     "output_type": "stream",
     "text": [
      "\n",
      "[notice] A new release of pip is available: 23.2.1 -> 25.2\n",
      "[notice] To update, run: python.exe -m pip install --upgrade pip\n"
     ]
    }
   ],
   "source": [
    "! pip install -q pandas numpy scikit-learn xgboost"
   ]
  },
  {
   "cell_type": "markdown",
   "metadata": {},
   "source": [
    "# IMPORT"
   ]
  },
  {
   "cell_type": "code",
   "execution_count": 2,
   "metadata": {},
   "outputs": [],
   "source": [
    "import pandas as pd\n",
    "from sklearn.model_selection import train_test_split"
   ]
  },
  {
   "cell_type": "markdown",
   "metadata": {},
   "source": [
    "# LOAD DATA"
   ]
  },
  {
   "cell_type": "code",
   "execution_count": 3,
   "metadata": {},
   "outputs": [
    {
     "data": {
      "text/html": [
       "<div>\n",
       "<style scoped>\n",
       "    .dataframe tbody tr th:only-of-type {\n",
       "        vertical-align: middle;\n",
       "    }\n",
       "\n",
       "    .dataframe tbody tr th {\n",
       "        vertical-align: top;\n",
       "    }\n",
       "\n",
       "    .dataframe thead th {\n",
       "        text-align: right;\n",
       "    }\n",
       "</style>\n",
       "<table border=\"1\" class=\"dataframe\">\n",
       "  <thead>\n",
       "    <tr style=\"text-align: right;\">\n",
       "      <th></th>\n",
       "      <th>Employee ID</th>\n",
       "      <th>Date of Joining</th>\n",
       "      <th>Gender</th>\n",
       "      <th>Company Type</th>\n",
       "      <th>WFH Setup Available</th>\n",
       "      <th>Designation</th>\n",
       "      <th>Resource Allocation</th>\n",
       "      <th>Mental Fatigue Score</th>\n",
       "      <th>Burn Rate</th>\n",
       "    </tr>\n",
       "  </thead>\n",
       "  <tbody>\n",
       "    <tr>\n",
       "      <th>0</th>\n",
       "      <td>8387</td>\n",
       "      <td>2008-08-13</td>\n",
       "      <td>Male</td>\n",
       "      <td>Service</td>\n",
       "      <td>No</td>\n",
       "      <td>2</td>\n",
       "      <td>5</td>\n",
       "      <td>6.70</td>\n",
       "      <td>0.51</td>\n",
       "    </tr>\n",
       "    <tr>\n",
       "      <th>1</th>\n",
       "      <td>1817</td>\n",
       "      <td>2008-12-04</td>\n",
       "      <td>Male</td>\n",
       "      <td>Service</td>\n",
       "      <td>Yes</td>\n",
       "      <td>3</td>\n",
       "      <td>5</td>\n",
       "      <td>5.94</td>\n",
       "      <td>0.45</td>\n",
       "    </tr>\n",
       "    <tr>\n",
       "      <th>2</th>\n",
       "      <td>4386</td>\n",
       "      <td>2008-02-23</td>\n",
       "      <td>Male</td>\n",
       "      <td>Service</td>\n",
       "      <td>No</td>\n",
       "      <td>3</td>\n",
       "      <td>6</td>\n",
       "      <td>7.00</td>\n",
       "      <td>0.62</td>\n",
       "    </tr>\n",
       "    <tr>\n",
       "      <th>3</th>\n",
       "      <td>9317</td>\n",
       "      <td>2008-08-07</td>\n",
       "      <td>Female</td>\n",
       "      <td>Service</td>\n",
       "      <td>No</td>\n",
       "      <td>2</td>\n",
       "      <td>3</td>\n",
       "      <td>2.70</td>\n",
       "      <td>NaN</td>\n",
       "    </tr>\n",
       "    <tr>\n",
       "      <th>4</th>\n",
       "      <td>4575</td>\n",
       "      <td>2008-10-01</td>\n",
       "      <td>Female</td>\n",
       "      <td>Service</td>\n",
       "      <td>No</td>\n",
       "      <td>2</td>\n",
       "      <td>5</td>\n",
       "      <td>6.00</td>\n",
       "      <td>0.45</td>\n",
       "    </tr>\n",
       "    <tr>\n",
       "      <th>...</th>\n",
       "      <td>...</td>\n",
       "      <td>...</td>\n",
       "      <td>...</td>\n",
       "      <td>...</td>\n",
       "      <td>...</td>\n",
       "      <td>...</td>\n",
       "      <td>...</td>\n",
       "      <td>...</td>\n",
       "      <td>...</td>\n",
       "    </tr>\n",
       "    <tr>\n",
       "      <th>8081</th>\n",
       "      <td>5734</td>\n",
       "      <td>2008-11-02</td>\n",
       "      <td>Female</td>\n",
       "      <td>Service</td>\n",
       "      <td>No</td>\n",
       "      <td>4</td>\n",
       "      <td>7</td>\n",
       "      <td>8.70</td>\n",
       "      <td>0.79</td>\n",
       "    </tr>\n",
       "    <tr>\n",
       "      <th>8082</th>\n",
       "      <td>5191</td>\n",
       "      <td>2008-12-17</td>\n",
       "      <td>Female</td>\n",
       "      <td>Service</td>\n",
       "      <td>Yes</td>\n",
       "      <td>2</td>\n",
       "      <td>4</td>\n",
       "      <td>5.30</td>\n",
       "      <td>0.32</td>\n",
       "    </tr>\n",
       "    <tr>\n",
       "      <th>8083</th>\n",
       "      <td>5390</td>\n",
       "      <td>2008-03-24</td>\n",
       "      <td>Female</td>\n",
       "      <td>Service</td>\n",
       "      <td>No</td>\n",
       "      <td>2</td>\n",
       "      <td>4</td>\n",
       "      <td>6.60</td>\n",
       "      <td>0.57</td>\n",
       "    </tr>\n",
       "    <tr>\n",
       "      <th>8084</th>\n",
       "      <td>860</td>\n",
       "      <td>2008-08-30</td>\n",
       "      <td>Female</td>\n",
       "      <td>Service</td>\n",
       "      <td>No</td>\n",
       "      <td>1</td>\n",
       "      <td>2</td>\n",
       "      <td>5.60</td>\n",
       "      <td>0.40</td>\n",
       "    </tr>\n",
       "    <tr>\n",
       "      <th>8085</th>\n",
       "      <td>7270</td>\n",
       "      <td>2008-03-27</td>\n",
       "      <td>Male</td>\n",
       "      <td>Service</td>\n",
       "      <td>Yes</td>\n",
       "      <td>4</td>\n",
       "      <td>7</td>\n",
       "      <td>7.30</td>\n",
       "      <td>0.63</td>\n",
       "    </tr>\n",
       "  </tbody>\n",
       "</table>\n",
       "<p>8086 rows × 9 columns</p>\n",
       "</div>"
      ],
      "text/plain": [
       "      Employee ID Date of Joining  Gender Company Type WFH Setup Available  \\\n",
       "0            8387      2008-08-13    Male      Service                  No   \n",
       "1            1817      2008-12-04    Male      Service                 Yes   \n",
       "2            4386      2008-02-23    Male      Service                  No   \n",
       "3            9317      2008-08-07  Female      Service                  No   \n",
       "4            4575      2008-10-01  Female      Service                  No   \n",
       "...           ...             ...     ...          ...                 ...   \n",
       "8081         5734      2008-11-02  Female      Service                  No   \n",
       "8082         5191      2008-12-17  Female      Service                 Yes   \n",
       "8083         5390      2008-03-24  Female      Service                  No   \n",
       "8084          860      2008-08-30  Female      Service                  No   \n",
       "8085         7270      2008-03-27    Male      Service                 Yes   \n",
       "\n",
       "      Designation  Resource Allocation  Mental Fatigue Score  Burn Rate  \n",
       "0               2                    5                  6.70       0.51  \n",
       "1               3                    5                  5.94       0.45  \n",
       "2               3                    6                  7.00       0.62  \n",
       "3               2                    3                  2.70        NaN  \n",
       "4               2                    5                  6.00       0.45  \n",
       "...           ...                  ...                   ...        ...  \n",
       "8081            4                    7                  8.70       0.79  \n",
       "8082            2                    4                  5.30       0.32  \n",
       "8083            2                    4                  6.60       0.57  \n",
       "8084            1                    2                  5.60       0.40  \n",
       "8085            4                    7                  7.30       0.63  \n",
       "\n",
       "[8086 rows x 9 columns]"
      ]
     },
     "execution_count": 3,
     "metadata": {},
     "output_type": "execute_result"
    }
   ],
   "source": [
    "df = pd.read_csv('../KNN_Imputation/train_imputed_stacking.csv')\n",
    "df"
   ]
  },
  {
   "cell_type": "code",
   "execution_count": 4,
   "metadata": {},
   "outputs": [
    {
     "name": "stdout",
     "output_type": "stream",
     "text": [
      "<class 'pandas.core.frame.DataFrame'>\n",
      "RangeIndex: 8086 entries, 0 to 8085\n",
      "Data columns (total 9 columns):\n",
      " #   Column                Non-Null Count  Dtype  \n",
      "---  ------                --------------  -----  \n",
      " 0   Employee ID           8086 non-null   int64  \n",
      " 1   Date of Joining       8086 non-null   object \n",
      " 2   Gender                8086 non-null   object \n",
      " 3   Company Type          8086 non-null   object \n",
      " 4   WFH Setup Available   8086 non-null   object \n",
      " 5   Designation           8086 non-null   int64  \n",
      " 6   Resource Allocation   8086 non-null   int64  \n",
      " 7   Mental Fatigue Score  8086 non-null   float64\n",
      " 8   Burn Rate             7702 non-null   float64\n",
      "dtypes: float64(2), int64(3), object(4)\n",
      "memory usage: 568.7+ KB\n"
     ]
    }
   ],
   "source": [
    "df.info()"
   ]
  },
  {
   "cell_type": "markdown",
   "metadata": {},
   "source": [
    "# EDA & Preprocessing"
   ]
  },
  {
   "cell_type": "code",
   "execution_count": 5,
   "metadata": {},
   "outputs": [
    {
     "data": {
      "text/plain": [
       "Employee ID               0\n",
       "Date of Joining           0\n",
       "Gender                    0\n",
       "Company Type              0\n",
       "WFH Setup Available       0\n",
       "Designation               0\n",
       "Resource Allocation       0\n",
       "Mental Fatigue Score      0\n",
       "Burn Rate               384\n",
       "dtype: int64"
      ]
     },
     "execution_count": 5,
     "metadata": {},
     "output_type": "execute_result"
    }
   ],
   "source": [
    "df.isnull().sum()"
   ]
  },
  {
   "cell_type": "code",
   "execution_count": 6,
   "metadata": {},
   "outputs": [
    {
     "name": "stdout",
     "output_type": "stream",
     "text": [
      "<class 'pandas.core.frame.DataFrame'>\n",
      "Index: 7702 entries, 0 to 8085\n",
      "Data columns (total 9 columns):\n",
      " #   Column                Non-Null Count  Dtype  \n",
      "---  ------                --------------  -----  \n",
      " 0   Employee ID           7702 non-null   int64  \n",
      " 1   Date of Joining       7702 non-null   object \n",
      " 2   Gender                7702 non-null   object \n",
      " 3   Company Type          7702 non-null   object \n",
      " 4   WFH Setup Available   7702 non-null   object \n",
      " 5   Designation           7702 non-null   int64  \n",
      " 6   Resource Allocation   7702 non-null   int64  \n",
      " 7   Mental Fatigue Score  7702 non-null   float64\n",
      " 8   Burn Rate             7702 non-null   float64\n",
      "dtypes: float64(2), int64(3), object(4)\n",
      "memory usage: 601.7+ KB\n"
     ]
    }
   ],
   "source": [
    "df = df.dropna()\n",
    "df.info()"
   ]
  },
  {
   "cell_type": "code",
   "execution_count": 7,
   "metadata": {},
   "outputs": [
    {
     "name": "stderr",
     "output_type": "stream",
     "text": [
      "C:\\Users\\tseng\\AppData\\Local\\Temp\\ipykernel_68080\\3978805335.py:2: SettingWithCopyWarning: \n",
      "A value is trying to be set on a copy of a slice from a DataFrame.\n",
      "Try using .loc[row_indexer,col_indexer] = value instead\n",
      "\n",
      "See the caveats in the documentation: https://pandas.pydata.org/pandas-docs/stable/user_guide/indexing.html#returning-a-view-versus-a-copy\n",
      "  df['Date of Joining'] = pd.to_datetime(df['Date of Joining'])\n",
      "C:\\Users\\tseng\\AppData\\Local\\Temp\\ipykernel_68080\\3978805335.py:5: SettingWithCopyWarning: \n",
      "A value is trying to be set on a copy of a slice from a DataFrame.\n",
      "Try using .loc[row_indexer,col_indexer] = value instead\n",
      "\n",
      "See the caveats in the documentation: https://pandas.pydata.org/pandas-docs/stable/user_guide/indexing.html#returning-a-view-versus-a-copy\n",
      "  df['Days_with_company'] = (df['Date of Joining'] - reference_date).dt.days\n"
     ]
    }
   ],
   "source": [
    "# datetime\n",
    "df['Date of Joining'] = pd.to_datetime(df['Date of Joining'])\n",
    "\n",
    "reference_date = pd.to_datetime(pd.read_csv('../train.csv')['Date of Joining']).min()\n",
    "df['Days_with_company'] = (df['Date of Joining'] - reference_date).dt.days"
   ]
  },
  {
   "cell_type": "code",
   "execution_count": 8,
   "metadata": {},
   "outputs": [],
   "source": [
    "df_encoded = pd.get_dummies(df, columns=['Gender', 'Company Type', 'WFH Setup Available'], drop_first=True)\n",
    "\n",
    "df_X = df_encoded[[\n",
    "        'Designation', 'Resource Allocation',\n",
    "        'Mental Fatigue Score', 'Days_with_company', 'Gender_Male',\n",
    "        'Company Type_Service', 'WFH Setup Available_Yes'\n",
    "    ]]\n",
    "df_y = df_encoded['Burn Rate']"
   ]
  },
  {
   "cell_type": "code",
   "execution_count": 9,
   "metadata": {},
   "outputs": [
    {
     "data": {
      "text/html": [
       "<div>\n",
       "<style scoped>\n",
       "    .dataframe tbody tr th:only-of-type {\n",
       "        vertical-align: middle;\n",
       "    }\n",
       "\n",
       "    .dataframe tbody tr th {\n",
       "        vertical-align: top;\n",
       "    }\n",
       "\n",
       "    .dataframe thead th {\n",
       "        text-align: right;\n",
       "    }\n",
       "</style>\n",
       "<table border=\"1\" class=\"dataframe\">\n",
       "  <thead>\n",
       "    <tr style=\"text-align: right;\">\n",
       "      <th></th>\n",
       "      <th>Designation</th>\n",
       "      <th>Resource Allocation</th>\n",
       "      <th>Mental Fatigue Score</th>\n",
       "      <th>Days_with_company</th>\n",
       "      <th>Gender_Male</th>\n",
       "      <th>Company Type_Service</th>\n",
       "      <th>WFH Setup Available_Yes</th>\n",
       "    </tr>\n",
       "  </thead>\n",
       "  <tbody>\n",
       "    <tr>\n",
       "      <th>0</th>\n",
       "      <td>2</td>\n",
       "      <td>5</td>\n",
       "      <td>6.70</td>\n",
       "      <td>225</td>\n",
       "      <td>True</td>\n",
       "      <td>True</td>\n",
       "      <td>False</td>\n",
       "    </tr>\n",
       "    <tr>\n",
       "      <th>1</th>\n",
       "      <td>3</td>\n",
       "      <td>5</td>\n",
       "      <td>5.94</td>\n",
       "      <td>338</td>\n",
       "      <td>True</td>\n",
       "      <td>True</td>\n",
       "      <td>True</td>\n",
       "    </tr>\n",
       "    <tr>\n",
       "      <th>2</th>\n",
       "      <td>3</td>\n",
       "      <td>6</td>\n",
       "      <td>7.00</td>\n",
       "      <td>53</td>\n",
       "      <td>True</td>\n",
       "      <td>True</td>\n",
       "      <td>False</td>\n",
       "    </tr>\n",
       "    <tr>\n",
       "      <th>4</th>\n",
       "      <td>2</td>\n",
       "      <td>5</td>\n",
       "      <td>6.00</td>\n",
       "      <td>274</td>\n",
       "      <td>False</td>\n",
       "      <td>True</td>\n",
       "      <td>False</td>\n",
       "    </tr>\n",
       "    <tr>\n",
       "      <th>5</th>\n",
       "      <td>2</td>\n",
       "      <td>3</td>\n",
       "      <td>4.60</td>\n",
       "      <td>14</td>\n",
       "      <td>True</td>\n",
       "      <td>True</td>\n",
       "      <td>True</td>\n",
       "    </tr>\n",
       "    <tr>\n",
       "      <th>...</th>\n",
       "      <td>...</td>\n",
       "      <td>...</td>\n",
       "      <td>...</td>\n",
       "      <td>...</td>\n",
       "      <td>...</td>\n",
       "      <td>...</td>\n",
       "      <td>...</td>\n",
       "    </tr>\n",
       "    <tr>\n",
       "      <th>8081</th>\n",
       "      <td>4</td>\n",
       "      <td>7</td>\n",
       "      <td>8.70</td>\n",
       "      <td>306</td>\n",
       "      <td>False</td>\n",
       "      <td>True</td>\n",
       "      <td>False</td>\n",
       "    </tr>\n",
       "    <tr>\n",
       "      <th>8082</th>\n",
       "      <td>2</td>\n",
       "      <td>4</td>\n",
       "      <td>5.30</td>\n",
       "      <td>351</td>\n",
       "      <td>False</td>\n",
       "      <td>True</td>\n",
       "      <td>True</td>\n",
       "    </tr>\n",
       "    <tr>\n",
       "      <th>8083</th>\n",
       "      <td>2</td>\n",
       "      <td>4</td>\n",
       "      <td>6.60</td>\n",
       "      <td>83</td>\n",
       "      <td>False</td>\n",
       "      <td>True</td>\n",
       "      <td>False</td>\n",
       "    </tr>\n",
       "    <tr>\n",
       "      <th>8084</th>\n",
       "      <td>1</td>\n",
       "      <td>2</td>\n",
       "      <td>5.60</td>\n",
       "      <td>242</td>\n",
       "      <td>False</td>\n",
       "      <td>True</td>\n",
       "      <td>False</td>\n",
       "    </tr>\n",
       "    <tr>\n",
       "      <th>8085</th>\n",
       "      <td>4</td>\n",
       "      <td>7</td>\n",
       "      <td>7.30</td>\n",
       "      <td>86</td>\n",
       "      <td>True</td>\n",
       "      <td>True</td>\n",
       "      <td>True</td>\n",
       "    </tr>\n",
       "  </tbody>\n",
       "</table>\n",
       "<p>7702 rows × 7 columns</p>\n",
       "</div>"
      ],
      "text/plain": [
       "      Designation  Resource Allocation  Mental Fatigue Score  \\\n",
       "0               2                    5                  6.70   \n",
       "1               3                    5                  5.94   \n",
       "2               3                    6                  7.00   \n",
       "4               2                    5                  6.00   \n",
       "5               2                    3                  4.60   \n",
       "...           ...                  ...                   ...   \n",
       "8081            4                    7                  8.70   \n",
       "8082            2                    4                  5.30   \n",
       "8083            2                    4                  6.60   \n",
       "8084            1                    2                  5.60   \n",
       "8085            4                    7                  7.30   \n",
       "\n",
       "      Days_with_company  Gender_Male  Company Type_Service  \\\n",
       "0                   225         True                  True   \n",
       "1                   338         True                  True   \n",
       "2                    53         True                  True   \n",
       "4                   274        False                  True   \n",
       "5                    14         True                  True   \n",
       "...                 ...          ...                   ...   \n",
       "8081                306        False                  True   \n",
       "8082                351        False                  True   \n",
       "8083                 83        False                  True   \n",
       "8084                242        False                  True   \n",
       "8085                 86         True                  True   \n",
       "\n",
       "      WFH Setup Available_Yes  \n",
       "0                       False  \n",
       "1                        True  \n",
       "2                       False  \n",
       "4                       False  \n",
       "5                        True  \n",
       "...                       ...  \n",
       "8081                    False  \n",
       "8082                     True  \n",
       "8083                    False  \n",
       "8084                    False  \n",
       "8085                     True  \n",
       "\n",
       "[7702 rows x 7 columns]"
      ]
     },
     "execution_count": 9,
     "metadata": {},
     "output_type": "execute_result"
    }
   ],
   "source": [
    "df_X"
   ]
  },
  {
   "cell_type": "code",
   "execution_count": 10,
   "metadata": {},
   "outputs": [
    {
     "data": {
      "text/plain": [
       "0       0.51\n",
       "1       0.45\n",
       "2       0.62\n",
       "4       0.45\n",
       "5       0.27\n",
       "        ... \n",
       "8081    0.79\n",
       "8082    0.32\n",
       "8083    0.57\n",
       "8084    0.40\n",
       "8085    0.63\n",
       "Name: Burn Rate, Length: 7702, dtype: float64"
      ]
     },
     "execution_count": 10,
     "metadata": {},
     "output_type": "execute_result"
    }
   ],
   "source": [
    "df_y"
   ]
  },
  {
   "cell_type": "markdown",
   "metadata": {},
   "source": [
    "# Split train test"
   ]
  },
  {
   "cell_type": "code",
   "execution_count": 11,
   "metadata": {},
   "outputs": [],
   "source": [
    "X_train, X_test, y_train, y_test = train_test_split(df_X, df_y, test_size=0.2, random_state=42)"
   ]
  },
  {
   "cell_type": "markdown",
   "metadata": {},
   "source": [
    "# XGBoost"
   ]
  },
  {
   "cell_type": "code",
   "execution_count": 12,
   "metadata": {},
   "outputs": [],
   "source": [
    "import xgboost as xgb\n",
    "from sklearn.model_selection import GridSearchCV"
   ]
  },
  {
   "cell_type": "code",
   "execution_count": 13,
   "metadata": {},
   "outputs": [],
   "source": [
    "# param_grid_xgb = {\n",
    "#     'learning_rate': [0.1, 0.05],\n",
    "#     'n_estimators': [400, 600, 800],\n",
    "#     'max_depth': [3, 5, 7, 9, 12],  \n",
    "#     'gamma': [0, 0.1],      \n",
    "#     'subsample': [0.8, 1.0],\n",
    "#     'colsample_bytree': [0.8, 1.0],\n",
    "#     'objective': ['reg:absoluteerror', 'reg:squarederror']\n",
    "# }\n",
    "\n",
    "param_grid_xgb = {\n",
    "    # 'booster': ['gbtree', 'gblinear'],\n",
    "    'learning_rate': [0.01, 0.001],\n",
    "    'n_estimators': [800, 1000, 1200],\n",
    "    'max_depth': [5],  \n",
    "    # 'gamma': [0, 0.1],      \n",
    "    'subsample': [0.8, 1.0],\n",
    "    # 'colsample_bytree': [0.8, 1.0],\n",
    "    'objective': ['reg:absoluteerror']\n",
    "}"
   ]
  },
  {
   "cell_type": "code",
   "execution_count": 14,
   "metadata": {},
   "outputs": [
    {
     "name": "stdout",
     "output_type": "stream",
     "text": [
      "Fitting 5 folds for each of 12 candidates, totalling 60 fits\n"
     ]
    },
    {
     "name": "stderr",
     "output_type": "stream",
     "text": [
      "d:\\IEEM_AI\\HW1\\.venv312\\Lib\\site-packages\\xgboost\\training.py:183: UserWarning: [01:02:02] WARNING: C:\\actions-runner\\_work\\xgboost\\xgboost\\src\\learner.cc:738: \n",
      "Parameters: { \"n_job\" } are not used.\n",
      "\n",
      "  bst.update(dtrain, iteration=i, fobj=obj)\n"
     ]
    },
    {
     "name": "stdout",
     "output_type": "stream",
     "text": [
      "{'learning_rate': 0.01, 'max_depth': 5, 'n_estimators': 1000, 'objective': 'reg:absoluteerror', 'subsample': 0.8}\n"
     ]
    }
   ],
   "source": [
    "xgb_model = xgb.XGBRegressor(\n",
    "    random_state = 42, \n",
    "    n_job = -3\n",
    ")\n",
    "\n",
    "grid_search = GridSearchCV(\n",
    "    estimator=xgb_model,\n",
    "    param_grid=param_grid_xgb,\n",
    "    cv=5,\n",
    "    scoring='neg_mean_absolute_error', \n",
    "    n_jobs=-3, \n",
    "    verbose=2 \n",
    ")\n",
    "\n",
    "grid_search.fit(X_train, y_train)\n",
    "print(grid_search.best_params_)"
   ]
  },
  {
   "cell_type": "code",
   "execution_count": 15,
   "metadata": {},
   "outputs": [
    {
     "name": "stdout",
     "output_type": "stream",
     "text": [
      "0.04886037496463496\n"
     ]
    }
   ],
   "source": [
    "best_mae = -grid_search.best_score_\n",
    "print(best_mae)"
   ]
  },
  {
   "cell_type": "code",
   "execution_count": 16,
   "metadata": {},
   "outputs": [],
   "source": [
    "xgb_model = grid_search.best_estimator_"
   ]
  },
  {
   "cell_type": "code",
   "execution_count": 17,
   "metadata": {},
   "outputs": [
    {
     "data": {
      "text/plain": [
       "['stacking_xgb_model.joblib']"
      ]
     },
     "execution_count": 17,
     "metadata": {},
     "output_type": "execute_result"
    }
   ],
   "source": [
    "import joblib\n",
    "joblib.dump(xgb_model, 'stacking_xgb_model.joblib')\n",
    "# xgb_model = joblib.load('../XGBoost/final_xgb_model.joblib')"
   ]
  },
  {
   "cell_type": "code",
   "execution_count": 18,
   "metadata": {},
   "outputs": [],
   "source": [
    "y_pred = xgb_model.predict(X_test)"
   ]
  },
  {
   "cell_type": "code",
   "execution_count": 19,
   "metadata": {},
   "outputs": [],
   "source": [
    "from sklearn.metrics import mean_absolute_error, r2_score\n",
    "import numpy as np"
   ]
  },
  {
   "cell_type": "code",
   "execution_count": 20,
   "metadata": {},
   "outputs": [
    {
     "name": "stdout",
     "output_type": "stream",
     "text": [
      "Mean Absolute Error (MAE): 0.0496925428934902\n",
      "R-squared (R2) Score: 0.88896873794843\n"
     ]
    }
   ],
   "source": [
    "mae = mean_absolute_error(y_pred=y_pred, y_true=y_test)\n",
    "r2 = r2_score(y_test, y_pred)\n",
    "\n",
    "print(f\"Mean Absolute Error (MAE): {mae}\")\n",
    "print(f\"R-squared (R2) Score: {r2}\")"
   ]
  }
 ],
 "metadata": {
  "kernelspec": {
   "display_name": ".venv312",
   "language": "python",
   "name": "python3"
  },
  "language_info": {
   "codemirror_mode": {
    "name": "ipython",
    "version": 3
   },
   "file_extension": ".py",
   "mimetype": "text/x-python",
   "name": "python",
   "nbconvert_exporter": "python",
   "pygments_lexer": "ipython3",
   "version": "3.12.0"
  }
 },
 "nbformat": 4,
 "nbformat_minor": 2
}
