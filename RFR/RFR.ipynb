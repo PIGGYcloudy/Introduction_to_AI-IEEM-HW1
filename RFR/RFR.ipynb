{
 "cells": [
  {
   "cell_type": "code",
   "execution_count": 51,
   "metadata": {},
   "outputs": [
    {
     "name": "stderr",
     "output_type": "stream",
     "text": [
      "\n",
      "[notice] A new release of pip is available: 23.2.1 -> 25.2\n",
      "[notice] To update, run: python.exe -m pip install --upgrade pip\n"
     ]
    }
   ],
   "source": [
    "! pip install -q pandas numpy scikit-learn"
   ]
  },
  {
   "cell_type": "markdown",
   "metadata": {},
   "source": [
    "# IMPORT"
   ]
  },
  {
   "cell_type": "code",
   "execution_count": 52,
   "metadata": {},
   "outputs": [],
   "source": [
    "import pandas as pd\n",
    "from sklearn.model_selection import train_test_split"
   ]
  },
  {
   "cell_type": "markdown",
   "metadata": {},
   "source": [
    "# LOAD DATA"
   ]
  },
  {
   "cell_type": "code",
   "execution_count": 53,
   "metadata": {},
   "outputs": [
    {
     "data": {
      "text/html": [
       "<div>\n",
       "<style scoped>\n",
       "    .dataframe tbody tr th:only-of-type {\n",
       "        vertical-align: middle;\n",
       "    }\n",
       "\n",
       "    .dataframe tbody tr th {\n",
       "        vertical-align: top;\n",
       "    }\n",
       "\n",
       "    .dataframe thead th {\n",
       "        text-align: right;\n",
       "    }\n",
       "</style>\n",
       "<table border=\"1\" class=\"dataframe\">\n",
       "  <thead>\n",
       "    <tr style=\"text-align: right;\">\n",
       "      <th></th>\n",
       "      <th>Employee ID</th>\n",
       "      <th>Date of Joining</th>\n",
       "      <th>Gender</th>\n",
       "      <th>Company Type</th>\n",
       "      <th>WFH Setup Available</th>\n",
       "      <th>Designation</th>\n",
       "      <th>Resource Allocation</th>\n",
       "      <th>Mental Fatigue Score</th>\n",
       "      <th>Burn Rate</th>\n",
       "    </tr>\n",
       "  </thead>\n",
       "  <tbody>\n",
       "    <tr>\n",
       "      <th>0</th>\n",
       "      <td>0</td>\n",
       "      <td>2008-09-30</td>\n",
       "      <td>Female</td>\n",
       "      <td>Service</td>\n",
       "      <td>No</td>\n",
       "      <td>2</td>\n",
       "      <td>3</td>\n",
       "      <td>3.80</td>\n",
       "      <td>0.16</td>\n",
       "    </tr>\n",
       "    <tr>\n",
       "      <th>1</th>\n",
       "      <td>1</td>\n",
       "      <td>2008-11-30</td>\n",
       "      <td>Male</td>\n",
       "      <td>Service</td>\n",
       "      <td>Yes</td>\n",
       "      <td>1</td>\n",
       "      <td>2</td>\n",
       "      <td>5.00</td>\n",
       "      <td>0.36</td>\n",
       "    </tr>\n",
       "    <tr>\n",
       "      <th>2</th>\n",
       "      <td>2</td>\n",
       "      <td>2008-03-10</td>\n",
       "      <td>Female</td>\n",
       "      <td>Product</td>\n",
       "      <td>Yes</td>\n",
       "      <td>2</td>\n",
       "      <td>4</td>\n",
       "      <td>5.80</td>\n",
       "      <td>0.49</td>\n",
       "    </tr>\n",
       "    <tr>\n",
       "      <th>3</th>\n",
       "      <td>3</td>\n",
       "      <td>2008-11-03</td>\n",
       "      <td>Male</td>\n",
       "      <td>Service</td>\n",
       "      <td>Yes</td>\n",
       "      <td>1</td>\n",
       "      <td>1</td>\n",
       "      <td>2.60</td>\n",
       "      <td>0.20</td>\n",
       "    </tr>\n",
       "    <tr>\n",
       "      <th>4</th>\n",
       "      <td>4</td>\n",
       "      <td>2008-07-24</td>\n",
       "      <td>Female</td>\n",
       "      <td>Service</td>\n",
       "      <td>No</td>\n",
       "      <td>3</td>\n",
       "      <td>7</td>\n",
       "      <td>6.90</td>\n",
       "      <td>0.52</td>\n",
       "    </tr>\n",
       "    <tr>\n",
       "      <th>...</th>\n",
       "      <td>...</td>\n",
       "      <td>...</td>\n",
       "      <td>...</td>\n",
       "      <td>...</td>\n",
       "      <td>...</td>\n",
       "      <td>...</td>\n",
       "      <td>...</td>\n",
       "      <td>...</td>\n",
       "      <td>...</td>\n",
       "    </tr>\n",
       "    <tr>\n",
       "      <th>10103</th>\n",
       "      <td>10103</td>\n",
       "      <td>2008-07-04</td>\n",
       "      <td>Female</td>\n",
       "      <td>Product</td>\n",
       "      <td>No</td>\n",
       "      <td>3</td>\n",
       "      <td>6</td>\n",
       "      <td>5.90</td>\n",
       "      <td>0.51</td>\n",
       "    </tr>\n",
       "    <tr>\n",
       "      <th>10104</th>\n",
       "      <td>10104</td>\n",
       "      <td>2008-02-29</td>\n",
       "      <td>Male</td>\n",
       "      <td>Service</td>\n",
       "      <td>No</td>\n",
       "      <td>3</td>\n",
       "      <td>6</td>\n",
       "      <td>6.30</td>\n",
       "      <td>0.62</td>\n",
       "    </tr>\n",
       "    <tr>\n",
       "      <th>10105</th>\n",
       "      <td>10105</td>\n",
       "      <td>2008-01-25</td>\n",
       "      <td>Male</td>\n",
       "      <td>Service</td>\n",
       "      <td>No</td>\n",
       "      <td>3</td>\n",
       "      <td>5</td>\n",
       "      <td>5.70</td>\n",
       "      <td>0.47</td>\n",
       "    </tr>\n",
       "    <tr>\n",
       "      <th>10106</th>\n",
       "      <td>10106</td>\n",
       "      <td>2008-12-26</td>\n",
       "      <td>Male</td>\n",
       "      <td>Service</td>\n",
       "      <td>Yes</td>\n",
       "      <td>2</td>\n",
       "      <td>3</td>\n",
       "      <td>5.50</td>\n",
       "      <td>0.40</td>\n",
       "    </tr>\n",
       "    <tr>\n",
       "      <th>10107</th>\n",
       "      <td>10107</td>\n",
       "      <td>2008-02-03</td>\n",
       "      <td>Female</td>\n",
       "      <td>Service</td>\n",
       "      <td>No</td>\n",
       "      <td>3</td>\n",
       "      <td>6</td>\n",
       "      <td>6.94</td>\n",
       "      <td>0.74</td>\n",
       "    </tr>\n",
       "  </tbody>\n",
       "</table>\n",
       "<p>10108 rows × 9 columns</p>\n",
       "</div>"
      ],
      "text/plain": [
       "       Employee ID Date of Joining  Gender Company Type WFH Setup Available  \\\n",
       "0                0      2008-09-30  Female      Service                  No   \n",
       "1                1      2008-11-30    Male      Service                 Yes   \n",
       "2                2      2008-03-10  Female      Product                 Yes   \n",
       "3                3      2008-11-03    Male      Service                 Yes   \n",
       "4                4      2008-07-24  Female      Service                  No   \n",
       "...            ...             ...     ...          ...                 ...   \n",
       "10103        10103      2008-07-04  Female      Product                  No   \n",
       "10104        10104      2008-02-29    Male      Service                  No   \n",
       "10105        10105      2008-01-25    Male      Service                  No   \n",
       "10106        10106      2008-12-26    Male      Service                 Yes   \n",
       "10107        10107      2008-02-03  Female      Service                  No   \n",
       "\n",
       "       Designation  Resource Allocation  Mental Fatigue Score  Burn Rate  \n",
       "0                2                    3                  3.80       0.16  \n",
       "1                1                    2                  5.00       0.36  \n",
       "2                2                    4                  5.80       0.49  \n",
       "3                1                    1                  2.60       0.20  \n",
       "4                3                    7                  6.90       0.52  \n",
       "...            ...                  ...                   ...        ...  \n",
       "10103            3                    6                  5.90       0.51  \n",
       "10104            3                    6                  6.30       0.62  \n",
       "10105            3                    5                  5.70       0.47  \n",
       "10106            2                    3                  5.50       0.40  \n",
       "10107            3                    6                  6.94       0.74  \n",
       "\n",
       "[10108 rows x 9 columns]"
      ]
     },
     "execution_count": 53,
     "metadata": {},
     "output_type": "execute_result"
    }
   ],
   "source": [
    "df = pd.read_csv('../KNN_Imputation/train_imputed.csv')\n",
    "df"
   ]
  },
  {
   "cell_type": "code",
   "execution_count": 54,
   "metadata": {},
   "outputs": [
    {
     "name": "stdout",
     "output_type": "stream",
     "text": [
      "<class 'pandas.core.frame.DataFrame'>\n",
      "RangeIndex: 10108 entries, 0 to 10107\n",
      "Data columns (total 9 columns):\n",
      " #   Column                Non-Null Count  Dtype  \n",
      "---  ------                --------------  -----  \n",
      " 0   Employee ID           10108 non-null  int64  \n",
      " 1   Date of Joining       10108 non-null  object \n",
      " 2   Gender                10108 non-null  object \n",
      " 3   Company Type          10108 non-null  object \n",
      " 4   WFH Setup Available   10108 non-null  object \n",
      " 5   Designation           10108 non-null  int64  \n",
      " 6   Resource Allocation   10108 non-null  int64  \n",
      " 7   Mental Fatigue Score  10108 non-null  float64\n",
      " 8   Burn Rate             9624 non-null   float64\n",
      "dtypes: float64(2), int64(3), object(4)\n",
      "memory usage: 710.8+ KB\n"
     ]
    }
   ],
   "source": [
    "df.info()"
   ]
  },
  {
   "cell_type": "markdown",
   "metadata": {},
   "source": [
    "# EDA & Preprocessing"
   ]
  },
  {
   "cell_type": "code",
   "execution_count": 55,
   "metadata": {},
   "outputs": [
    {
     "data": {
      "text/plain": [
       "Employee ID               0\n",
       "Date of Joining           0\n",
       "Gender                    0\n",
       "Company Type              0\n",
       "WFH Setup Available       0\n",
       "Designation               0\n",
       "Resource Allocation       0\n",
       "Mental Fatigue Score      0\n",
       "Burn Rate               484\n",
       "dtype: int64"
      ]
     },
     "execution_count": 55,
     "metadata": {},
     "output_type": "execute_result"
    }
   ],
   "source": [
    "df.isnull().sum()"
   ]
  },
  {
   "cell_type": "code",
   "execution_count": 56,
   "metadata": {},
   "outputs": [
    {
     "name": "stdout",
     "output_type": "stream",
     "text": [
      "<class 'pandas.core.frame.DataFrame'>\n",
      "Index: 9624 entries, 0 to 10107\n",
      "Data columns (total 9 columns):\n",
      " #   Column                Non-Null Count  Dtype  \n",
      "---  ------                --------------  -----  \n",
      " 0   Employee ID           9624 non-null   int64  \n",
      " 1   Date of Joining       9624 non-null   object \n",
      " 2   Gender                9624 non-null   object \n",
      " 3   Company Type          9624 non-null   object \n",
      " 4   WFH Setup Available   9624 non-null   object \n",
      " 5   Designation           9624 non-null   int64  \n",
      " 6   Resource Allocation   9624 non-null   int64  \n",
      " 7   Mental Fatigue Score  9624 non-null   float64\n",
      " 8   Burn Rate             9624 non-null   float64\n",
      "dtypes: float64(2), int64(3), object(4)\n",
      "memory usage: 751.9+ KB\n"
     ]
    }
   ],
   "source": [
    "df = df.dropna()\n",
    "df.info()"
   ]
  },
  {
   "cell_type": "code",
   "execution_count": 57,
   "metadata": {},
   "outputs": [
    {
     "name": "stderr",
     "output_type": "stream",
     "text": [
      "C:\\Users\\tseng\\AppData\\Local\\Temp\\ipykernel_47424\\4278718302.py:2: SettingWithCopyWarning: \n",
      "A value is trying to be set on a copy of a slice from a DataFrame.\n",
      "Try using .loc[row_indexer,col_indexer] = value instead\n",
      "\n",
      "See the caveats in the documentation: https://pandas.pydata.org/pandas-docs/stable/user_guide/indexing.html#returning-a-view-versus-a-copy\n",
      "  df['Date of Joining'] = pd.to_datetime(df['Date of Joining'])\n",
      "C:\\Users\\tseng\\AppData\\Local\\Temp\\ipykernel_47424\\4278718302.py:6: SettingWithCopyWarning: \n",
      "A value is trying to be set on a copy of a slice from a DataFrame.\n",
      "Try using .loc[row_indexer,col_indexer] = value instead\n",
      "\n",
      "See the caveats in the documentation: https://pandas.pydata.org/pandas-docs/stable/user_guide/indexing.html#returning-a-view-versus-a-copy\n",
      "  df['Days_with_company'] = (df['Date of Joining'] - reference_date).dt.days\n"
     ]
    }
   ],
   "source": [
    "# datetime\n",
    "df['Date of Joining'] = pd.to_datetime(df['Date of Joining'])\n",
    "\n",
    "# reference_date = df['Date of Joining'].min()\n",
    "reference_date = pd.to_datetime(pd.read_csv('../train.csv')['Date of Joining']).min()\n",
    "df['Days_with_company'] = (df['Date of Joining'] - reference_date).dt.days"
   ]
  },
  {
   "cell_type": "code",
   "execution_count": 58,
   "metadata": {},
   "outputs": [],
   "source": [
    "df_encoded = pd.get_dummies(df, columns=['Gender', 'Company Type', 'WFH Setup Available'], drop_first=True)\n",
    "\n",
    "df_X = df_encoded[[\n",
    "        'Designation', 'Resource Allocation',\n",
    "        'Mental Fatigue Score', 'Days_with_company', 'Gender_Male',\n",
    "        'Company Type_Service', 'WFH Setup Available_Yes'\n",
    "    ]]\n",
    "df_y = df_encoded['Burn Rate']"
   ]
  },
  {
   "cell_type": "code",
   "execution_count": 59,
   "metadata": {},
   "outputs": [
    {
     "data": {
      "text/html": [
       "<div>\n",
       "<style scoped>\n",
       "    .dataframe tbody tr th:only-of-type {\n",
       "        vertical-align: middle;\n",
       "    }\n",
       "\n",
       "    .dataframe tbody tr th {\n",
       "        vertical-align: top;\n",
       "    }\n",
       "\n",
       "    .dataframe thead th {\n",
       "        text-align: right;\n",
       "    }\n",
       "</style>\n",
       "<table border=\"1\" class=\"dataframe\">\n",
       "  <thead>\n",
       "    <tr style=\"text-align: right;\">\n",
       "      <th></th>\n",
       "      <th>Designation</th>\n",
       "      <th>Resource Allocation</th>\n",
       "      <th>Mental Fatigue Score</th>\n",
       "      <th>Days_with_company</th>\n",
       "      <th>Gender_Male</th>\n",
       "      <th>Company Type_Service</th>\n",
       "      <th>WFH Setup Available_Yes</th>\n",
       "    </tr>\n",
       "  </thead>\n",
       "  <tbody>\n",
       "    <tr>\n",
       "      <th>0</th>\n",
       "      <td>2</td>\n",
       "      <td>3</td>\n",
       "      <td>3.80</td>\n",
       "      <td>273</td>\n",
       "      <td>False</td>\n",
       "      <td>True</td>\n",
       "      <td>False</td>\n",
       "    </tr>\n",
       "    <tr>\n",
       "      <th>1</th>\n",
       "      <td>1</td>\n",
       "      <td>2</td>\n",
       "      <td>5.00</td>\n",
       "      <td>334</td>\n",
       "      <td>True</td>\n",
       "      <td>True</td>\n",
       "      <td>True</td>\n",
       "    </tr>\n",
       "    <tr>\n",
       "      <th>2</th>\n",
       "      <td>2</td>\n",
       "      <td>4</td>\n",
       "      <td>5.80</td>\n",
       "      <td>69</td>\n",
       "      <td>False</td>\n",
       "      <td>False</td>\n",
       "      <td>True</td>\n",
       "    </tr>\n",
       "    <tr>\n",
       "      <th>3</th>\n",
       "      <td>1</td>\n",
       "      <td>1</td>\n",
       "      <td>2.60</td>\n",
       "      <td>307</td>\n",
       "      <td>True</td>\n",
       "      <td>True</td>\n",
       "      <td>True</td>\n",
       "    </tr>\n",
       "    <tr>\n",
       "      <th>4</th>\n",
       "      <td>3</td>\n",
       "      <td>7</td>\n",
       "      <td>6.90</td>\n",
       "      <td>205</td>\n",
       "      <td>False</td>\n",
       "      <td>True</td>\n",
       "      <td>False</td>\n",
       "    </tr>\n",
       "    <tr>\n",
       "      <th>...</th>\n",
       "      <td>...</td>\n",
       "      <td>...</td>\n",
       "      <td>...</td>\n",
       "      <td>...</td>\n",
       "      <td>...</td>\n",
       "      <td>...</td>\n",
       "      <td>...</td>\n",
       "    </tr>\n",
       "    <tr>\n",
       "      <th>10103</th>\n",
       "      <td>3</td>\n",
       "      <td>6</td>\n",
       "      <td>5.90</td>\n",
       "      <td>185</td>\n",
       "      <td>False</td>\n",
       "      <td>False</td>\n",
       "      <td>False</td>\n",
       "    </tr>\n",
       "    <tr>\n",
       "      <th>10104</th>\n",
       "      <td>3</td>\n",
       "      <td>6</td>\n",
       "      <td>6.30</td>\n",
       "      <td>59</td>\n",
       "      <td>True</td>\n",
       "      <td>True</td>\n",
       "      <td>False</td>\n",
       "    </tr>\n",
       "    <tr>\n",
       "      <th>10105</th>\n",
       "      <td>3</td>\n",
       "      <td>5</td>\n",
       "      <td>5.70</td>\n",
       "      <td>24</td>\n",
       "      <td>True</td>\n",
       "      <td>True</td>\n",
       "      <td>False</td>\n",
       "    </tr>\n",
       "    <tr>\n",
       "      <th>10106</th>\n",
       "      <td>2</td>\n",
       "      <td>3</td>\n",
       "      <td>5.50</td>\n",
       "      <td>360</td>\n",
       "      <td>True</td>\n",
       "      <td>True</td>\n",
       "      <td>True</td>\n",
       "    </tr>\n",
       "    <tr>\n",
       "      <th>10107</th>\n",
       "      <td>3</td>\n",
       "      <td>6</td>\n",
       "      <td>6.94</td>\n",
       "      <td>33</td>\n",
       "      <td>False</td>\n",
       "      <td>True</td>\n",
       "      <td>False</td>\n",
       "    </tr>\n",
       "  </tbody>\n",
       "</table>\n",
       "<p>9624 rows × 7 columns</p>\n",
       "</div>"
      ],
      "text/plain": [
       "       Designation  Resource Allocation  Mental Fatigue Score  \\\n",
       "0                2                    3                  3.80   \n",
       "1                1                    2                  5.00   \n",
       "2                2                    4                  5.80   \n",
       "3                1                    1                  2.60   \n",
       "4                3                    7                  6.90   \n",
       "...            ...                  ...                   ...   \n",
       "10103            3                    6                  5.90   \n",
       "10104            3                    6                  6.30   \n",
       "10105            3                    5                  5.70   \n",
       "10106            2                    3                  5.50   \n",
       "10107            3                    6                  6.94   \n",
       "\n",
       "       Days_with_company  Gender_Male  Company Type_Service  \\\n",
       "0                    273        False                  True   \n",
       "1                    334         True                  True   \n",
       "2                     69        False                 False   \n",
       "3                    307         True                  True   \n",
       "4                    205        False                  True   \n",
       "...                  ...          ...                   ...   \n",
       "10103                185        False                 False   \n",
       "10104                 59         True                  True   \n",
       "10105                 24         True                  True   \n",
       "10106                360         True                  True   \n",
       "10107                 33        False                  True   \n",
       "\n",
       "       WFH Setup Available_Yes  \n",
       "0                        False  \n",
       "1                         True  \n",
       "2                         True  \n",
       "3                         True  \n",
       "4                        False  \n",
       "...                        ...  \n",
       "10103                    False  \n",
       "10104                    False  \n",
       "10105                    False  \n",
       "10106                     True  \n",
       "10107                    False  \n",
       "\n",
       "[9624 rows x 7 columns]"
      ]
     },
     "execution_count": 59,
     "metadata": {},
     "output_type": "execute_result"
    }
   ],
   "source": [
    "df_X"
   ]
  },
  {
   "cell_type": "code",
   "execution_count": 60,
   "metadata": {},
   "outputs": [
    {
     "data": {
      "text/plain": [
       "0        0.16\n",
       "1        0.36\n",
       "2        0.49\n",
       "3        0.20\n",
       "4        0.52\n",
       "         ... \n",
       "10103    0.51\n",
       "10104    0.62\n",
       "10105    0.47\n",
       "10106    0.40\n",
       "10107    0.74\n",
       "Name: Burn Rate, Length: 9624, dtype: float64"
      ]
     },
     "execution_count": 60,
     "metadata": {},
     "output_type": "execute_result"
    }
   ],
   "source": [
    "df_y"
   ]
  },
  {
   "cell_type": "markdown",
   "metadata": {},
   "source": [
    "# Split train test"
   ]
  },
  {
   "cell_type": "code",
   "execution_count": 61,
   "metadata": {},
   "outputs": [],
   "source": [
    "X_train, X_test, y_train, y_test = train_test_split(df_X, df_y, test_size=0.2, random_state=42)"
   ]
  },
  {
   "cell_type": "markdown",
   "metadata": {},
   "source": [
    "# RandomForestRegressor"
   ]
  },
  {
   "cell_type": "code",
   "execution_count": 62,
   "metadata": {},
   "outputs": [],
   "source": [
    "n_estimators = 500\n",
    "# param_grid = {\n",
    "#     'n_estimators': [50, 100, 300],\n",
    "#     'max_features': ['sqrt', 0.3, 0.5],\n",
    "#     'max_depth': [5, 10, 20, None],\n",
    "#     'min_samples_leaf': [1, 2, 4]\n",
    "# }\n",
    "param_grid = {\n",
    "    'n_estimators': [500, 500],\n",
    "    'max_features': [0.5],\n",
    "    'max_depth': [10],\n",
    "    'min_samples_leaf': [1]\n",
    "}"
   ]
  },
  {
   "cell_type": "code",
   "execution_count": 63,
   "metadata": {},
   "outputs": [
    {
     "name": "stdout",
     "output_type": "stream",
     "text": [
      "Fitting 5 folds for each of 1 candidates, totalling 5 fits\n",
      "{'max_depth': 10, 'max_features': 0.5, 'min_samples_leaf': 1, 'n_estimators': 500}\n"
     ]
    }
   ],
   "source": [
    "from sklearn.ensemble import RandomForestRegressor\n",
    "from sklearn.model_selection import GridSearchCV\n",
    "# 初始化模型\n",
    "rf_model = RandomForestRegressor(\n",
    "        n_estimators=n_estimators,\n",
    "        criterion='absolute_error',\n",
    "        random_state=42,\n",
    "        n_jobs=-3\n",
    "    )\n",
    "\n",
    "grid_search = GridSearchCV(\n",
    "    estimator=rf_model,\n",
    "    param_grid=param_grid,\n",
    "    cv=5,\n",
    "    scoring='neg_mean_absolute_error',\n",
    "    n_jobs=-3,\n",
    "    verbose=2\n",
    ")\n",
    "\n",
    "grid_search.fit(X_train, y_train)\n",
    "print(grid_search.best_params_)\n",
    "# 使用訓練資料進行訓練\n",
    "# rf_model.fit(X_train, y_train)"
   ]
  },
  {
   "cell_type": "code",
   "execution_count": 64,
   "metadata": {},
   "outputs": [
    {
     "name": "stdout",
     "output_type": "stream",
     "text": [
      "0.048396588277090015\n"
     ]
    }
   ],
   "source": [
    "best_mae = -grid_search.best_score_\n",
    "print(best_mae)"
   ]
  },
  {
   "cell_type": "code",
   "execution_count": 65,
   "metadata": {},
   "outputs": [],
   "source": [
    "final_model = grid_search.best_estimator_"
   ]
  },
  {
   "cell_type": "code",
   "execution_count": 66,
   "metadata": {},
   "outputs": [],
   "source": [
    "import joblib\n",
    "joblib.dump(final_model, '../RFR/final_rf_model.joblib')\n",
    "rf_model = joblib.load('../RFR/final_rf_model.joblib')"
   ]
  },
  {
   "cell_type": "code",
   "execution_count": 67,
   "metadata": {},
   "outputs": [],
   "source": [
    "y_pred = rf_model.predict(X_test)"
   ]
  },
  {
   "cell_type": "code",
   "execution_count": 68,
   "metadata": {},
   "outputs": [],
   "source": [
    "from sklearn.metrics import mean_absolute_error, r2_score\n",
    "import numpy as np"
   ]
  },
  {
   "cell_type": "code",
   "execution_count": 69,
   "metadata": {},
   "outputs": [
    {
     "name": "stdout",
     "output_type": "stream",
     "text": [
      "Mean Absolute Error (MAE): 0.04763369350649351\n",
      "R-squared (R2) Score: 0.9020207441775061\n"
     ]
    }
   ],
   "source": [
    "mae = mean_absolute_error(y_pred=y_pred, y_true=y_test)\n",
    "r2 = r2_score(y_test, y_pred)\n",
    "\n",
    "print(f\"Mean Absolute Error (MAE): {mae}\")\n",
    "print(f\"R-squared (R2) Score: {r2}\")"
   ]
  },
  {
   "cell_type": "markdown",
   "metadata": {},
   "source": [
    "# test data"
   ]
  },
  {
   "cell_type": "code",
   "execution_count": 71,
   "metadata": {},
   "outputs": [],
   "source": [
    "test_df = pd.read_csv('../KNN_Imputation/test_imputed.csv')"
   ]
  },
  {
   "cell_type": "code",
   "execution_count": 72,
   "metadata": {},
   "outputs": [
    {
     "name": "stdout",
     "output_type": "stream",
     "text": [
      "<class 'pandas.core.frame.DataFrame'>\n",
      "RangeIndex: 1980 entries, 0 to 1979\n",
      "Data columns (total 8 columns):\n",
      " #   Column                Non-Null Count  Dtype  \n",
      "---  ------                --------------  -----  \n",
      " 0   Employee ID           1980 non-null   int64  \n",
      " 1   Date of Joining       1980 non-null   object \n",
      " 2   Gender                1980 non-null   object \n",
      " 3   Company Type          1980 non-null   object \n",
      " 4   WFH Setup Available   1980 non-null   object \n",
      " 5   Designation           1980 non-null   int64  \n",
      " 6   Resource Allocation   1980 non-null   int64  \n",
      " 7   Mental Fatigue Score  1980 non-null   float64\n",
      "dtypes: float64(1), int64(3), object(4)\n",
      "memory usage: 123.9+ KB\n"
     ]
    }
   ],
   "source": [
    "test_df.info()"
   ]
  },
  {
   "cell_type": "code",
   "execution_count": 73,
   "metadata": {},
   "outputs": [
    {
     "name": "stdout",
     "output_type": "stream",
     "text": [
      "<class 'pandas.core.frame.DataFrame'>\n",
      "RangeIndex: 1980 entries, 0 to 1979\n",
      "Data columns (total 8 columns):\n",
      " #   Column                Non-Null Count  Dtype  \n",
      "---  ------                --------------  -----  \n",
      " 0   Employee ID           1980 non-null   int64  \n",
      " 1   Date of Joining       1980 non-null   object \n",
      " 2   Gender                1980 non-null   object \n",
      " 3   Company Type          1980 non-null   object \n",
      " 4   WFH Setup Available   1980 non-null   object \n",
      " 5   Designation           1980 non-null   int64  \n",
      " 6   Resource Allocation   1980 non-null   int64  \n",
      " 7   Mental Fatigue Score  1980 non-null   float64\n",
      "dtypes: float64(1), int64(3), object(4)\n",
      "memory usage: 123.9+ KB\n"
     ]
    }
   ],
   "source": [
    "test_df['Resource Allocation'] = test_df['Resource Allocation'].fillna(df_X['Resource Allocation'].mode()[0])\n",
    "test_df['Mental Fatigue Score'] = test_df['Mental Fatigue Score'].fillna(df_X['Mental Fatigue Score'].mean())\n",
    "test_df.info()"
   ]
  },
  {
   "cell_type": "code",
   "execution_count": 74,
   "metadata": {},
   "outputs": [],
   "source": [
    "# datetime\n",
    "test_df['Date of Joining'] = pd.to_datetime(test_df['Date of Joining'])\n",
    "\n",
    "reference_date = pd.to_datetime(pd.read_csv('../train.csv')['Date of Joining']).min()\n",
    "test_df['Days_with_company'] = (test_df['Date of Joining'] - reference_date).dt.days"
   ]
  },
  {
   "cell_type": "code",
   "execution_count": 75,
   "metadata": {},
   "outputs": [],
   "source": [
    "df_encoded = pd.get_dummies(test_df, columns=['Gender', 'Company Type', 'WFH Setup Available'], drop_first=True)\n",
    "\n",
    "df_X = df_encoded[[\n",
    "        'Designation', 'Resource Allocation',\n",
    "        'Mental Fatigue Score', 'Days_with_company', 'Gender_Male',\n",
    "        'Company Type_Service', 'WFH Setup Available_Yes'\n",
    "    ]]"
   ]
  },
  {
   "cell_type": "code",
   "execution_count": 76,
   "metadata": {},
   "outputs": [],
   "source": [
    "y_pred = rf_model.predict(df_X)"
   ]
  },
  {
   "cell_type": "code",
   "execution_count": 77,
   "metadata": {},
   "outputs": [],
   "source": [
    "submission_df = pd.DataFrame({\n",
    "    'Employee ID': test_df['Employee ID'],\n",
    "    'Burn Rate': y_pred\n",
    "})"
   ]
  },
  {
   "cell_type": "code",
   "execution_count": 78,
   "metadata": {},
   "outputs": [
    {
     "data": {
      "text/html": [
       "<div>\n",
       "<style scoped>\n",
       "    .dataframe tbody tr th:only-of-type {\n",
       "        vertical-align: middle;\n",
       "    }\n",
       "\n",
       "    .dataframe tbody tr th {\n",
       "        vertical-align: top;\n",
       "    }\n",
       "\n",
       "    .dataframe thead th {\n",
       "        text-align: right;\n",
       "    }\n",
       "</style>\n",
       "<table border=\"1\" class=\"dataframe\">\n",
       "  <thead>\n",
       "    <tr style=\"text-align: right;\">\n",
       "      <th></th>\n",
       "      <th>Employee ID</th>\n",
       "      <th>Burn Rate</th>\n",
       "    </tr>\n",
       "  </thead>\n",
       "  <tbody>\n",
       "    <tr>\n",
       "      <th>0</th>\n",
       "      <td>0</td>\n",
       "      <td>0.00581</td>\n",
       "    </tr>\n",
       "    <tr>\n",
       "      <th>1</th>\n",
       "      <td>1</td>\n",
       "      <td>0.72384</td>\n",
       "    </tr>\n",
       "    <tr>\n",
       "      <th>2</th>\n",
       "      <td>2</td>\n",
       "      <td>0.75365</td>\n",
       "    </tr>\n",
       "    <tr>\n",
       "      <th>3</th>\n",
       "      <td>3</td>\n",
       "      <td>0.39803</td>\n",
       "    </tr>\n",
       "    <tr>\n",
       "      <th>4</th>\n",
       "      <td>4</td>\n",
       "      <td>0.45976</td>\n",
       "    </tr>\n",
       "    <tr>\n",
       "      <th>...</th>\n",
       "      <td>...</td>\n",
       "      <td>...</td>\n",
       "    </tr>\n",
       "    <tr>\n",
       "      <th>1975</th>\n",
       "      <td>1975</td>\n",
       "      <td>0.18883</td>\n",
       "    </tr>\n",
       "    <tr>\n",
       "      <th>1976</th>\n",
       "      <td>1976</td>\n",
       "      <td>0.45302</td>\n",
       "    </tr>\n",
       "    <tr>\n",
       "      <th>1977</th>\n",
       "      <td>1977</td>\n",
       "      <td>0.34601</td>\n",
       "    </tr>\n",
       "    <tr>\n",
       "      <th>1978</th>\n",
       "      <td>1978</td>\n",
       "      <td>0.60039</td>\n",
       "    </tr>\n",
       "    <tr>\n",
       "      <th>1979</th>\n",
       "      <td>1979</td>\n",
       "      <td>0.53391</td>\n",
       "    </tr>\n",
       "  </tbody>\n",
       "</table>\n",
       "<p>1980 rows × 2 columns</p>\n",
       "</div>"
      ],
      "text/plain": [
       "      Employee ID  Burn Rate\n",
       "0               0    0.00581\n",
       "1               1    0.72384\n",
       "2               2    0.75365\n",
       "3               3    0.39803\n",
       "4               4    0.45976\n",
       "...           ...        ...\n",
       "1975         1975    0.18883\n",
       "1976         1976    0.45302\n",
       "1977         1977    0.34601\n",
       "1978         1978    0.60039\n",
       "1979         1979    0.53391\n",
       "\n",
       "[1980 rows x 2 columns]"
      ]
     },
     "execution_count": 78,
     "metadata": {},
     "output_type": "execute_result"
    }
   ],
   "source": [
    "submission_df"
   ]
  },
  {
   "cell_type": "code",
   "execution_count": 79,
   "metadata": {},
   "outputs": [],
   "source": [
    "submission_df.to_csv('random_forest_regressor_rough_Gridsearch_KNNimputed_v0.2.csv', index=False)"
   ]
  }
 ],
 "metadata": {
  "kernelspec": {
   "display_name": ".venv312",
   "language": "python",
   "name": "python3"
  },
  "language_info": {
   "codemirror_mode": {
    "name": "ipython",
    "version": 3
   },
   "file_extension": ".py",
   "mimetype": "text/x-python",
   "name": "python",
   "nbconvert_exporter": "python",
   "pygments_lexer": "ipython3",
   "version": "3.12.0"
  }
 },
 "nbformat": 4,
 "nbformat_minor": 2
}
