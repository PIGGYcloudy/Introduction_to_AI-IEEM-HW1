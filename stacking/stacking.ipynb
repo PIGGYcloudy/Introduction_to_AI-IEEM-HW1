{
 "cells": [
  {
   "cell_type": "markdown",
   "metadata": {},
   "source": [
    "# Import"
   ]
  },
  {
   "cell_type": "code",
   "execution_count": 1,
   "metadata": {},
   "outputs": [],
   "source": [
    "import pandas as pd\n",
    "import numpy as np\n",
    "import joblib"
   ]
  },
  {
   "cell_type": "code",
   "execution_count": 2,
   "metadata": {},
   "outputs": [],
   "source": [
    "import sys\n",
    "from pathlib import Path\n",
    "\n",
    "project_root = Path.cwd().parent\n",
    "if str(project_root) not in sys.path:\n",
    "    sys.path.append(str(project_root))"
   ]
  },
  {
   "cell_type": "code",
   "execution_count": 3,
   "metadata": {},
   "outputs": [],
   "source": [
    "from lightGBM import lgbm_inference\n",
    "from MLP import MLP_inference\n",
    "from RFR import RFR_inference\n",
    "from XGBoost import xgb_inference"
   ]
  },
  {
   "cell_type": "markdown",
   "metadata": {},
   "source": [
    "# Holdout data"
   ]
  },
  {
   "cell_type": "code",
   "execution_count": 4,
   "metadata": {},
   "outputs": [
    {
     "name": "stdout",
     "output_type": "stream",
     "text": [
      "<class 'pandas.core.frame.DataFrame'>\n",
      "RangeIndex: 2022 entries, 0 to 2021\n",
      "Data columns (total 9 columns):\n",
      " #   Column                Non-Null Count  Dtype  \n",
      "---  ------                --------------  -----  \n",
      " 0   Employee ID           2022 non-null   int64  \n",
      " 1   Date of Joining       2022 non-null   object \n",
      " 2   Gender                2022 non-null   object \n",
      " 3   Company Type          2022 non-null   object \n",
      " 4   WFH Setup Available   2022 non-null   object \n",
      " 5   Designation           2022 non-null   int64  \n",
      " 6   Resource Allocation   2022 non-null   int64  \n",
      " 7   Mental Fatigue Score  2022 non-null   float64\n",
      " 8   Burn Rate             1922 non-null   float64\n",
      "dtypes: float64(2), int64(3), object(4)\n",
      "memory usage: 142.3+ KB\n"
     ]
    }
   ],
   "source": [
    "holdout_df = pd.read_csv('../KNN_Imputation/validation_imputed_stacking.csv')\n",
    "holdout_df.info()"
   ]
  },
  {
   "cell_type": "code",
   "execution_count": 5,
   "metadata": {},
   "outputs": [
    {
     "name": "stdout",
     "output_type": "stream",
     "text": [
      "<class 'pandas.core.frame.DataFrame'>\n",
      "Index: 1922 entries, 0 to 2021\n",
      "Data columns (total 9 columns):\n",
      " #   Column                Non-Null Count  Dtype  \n",
      "---  ------                --------------  -----  \n",
      " 0   Employee ID           1922 non-null   int64  \n",
      " 1   Date of Joining       1922 non-null   object \n",
      " 2   Gender                1922 non-null   object \n",
      " 3   Company Type          1922 non-null   object \n",
      " 4   WFH Setup Available   1922 non-null   object \n",
      " 5   Designation           1922 non-null   int64  \n",
      " 6   Resource Allocation   1922 non-null   int64  \n",
      " 7   Mental Fatigue Score  1922 non-null   float64\n",
      " 8   Burn Rate             1922 non-null   float64\n",
      "dtypes: float64(2), int64(3), object(4)\n",
      "memory usage: 150.2+ KB\n"
     ]
    }
   ],
   "source": [
    "holdout_df = holdout_df.dropna()\n",
    "holdout_df.info()"
   ]
  },
  {
   "cell_type": "code",
   "execution_count": 6,
   "metadata": {},
   "outputs": [],
   "source": [
    "target_col = 'Burn Rate'\n",
    "X_holdout = holdout_df.drop(target_col, axis=1)\n",
    "y_holdout = holdout_df[target_col]"
   ]
  },
  {
   "cell_type": "code",
   "execution_count": 7,
   "metadata": {},
   "outputs": [],
   "source": [
    "pred_lgbm = lgbm_inference.inference(X_holdout)\n",
    "pred_mlp = MLP_inference.inference(X_holdout)\n",
    "pred_rf = RFR_inference.inference(X_holdout)\n",
    "pred_xgb = xgb_inference.inference(X_holdout)"
   ]
  },
  {
   "cell_type": "code",
   "execution_count": 8,
   "metadata": {},
   "outputs": [],
   "source": [
    "X_meta = np.column_stack((\n",
    "    pred_lgbm,\n",
    "    pred_mlp,\n",
    "    pred_rf,\n",
    "    pred_xgb,\n",
    "))\n",
    "y_meta = y_holdout"
   ]
  },
  {
   "cell_type": "markdown",
   "metadata": {},
   "source": [
    "# meta model"
   ]
  },
  {
   "cell_type": "code",
   "execution_count": 9,
   "metadata": {},
   "outputs": [],
   "source": [
    "from sklearn.linear_model import Ridge\n",
    "\n",
    "meta_model = Ridge()"
   ]
  },
  {
   "cell_type": "code",
   "execution_count": 10,
   "metadata": {},
   "outputs": [
    {
     "data": {
      "text/plain": [
       "['meta_model.joblib']"
      ]
     },
     "execution_count": 10,
     "metadata": {},
     "output_type": "execute_result"
    }
   ],
   "source": [
    "meta_model.fit(X_meta, y_meta)\n",
    "joblib.dump(meta_model, 'meta_model.joblib')"
   ]
  },
  {
   "cell_type": "markdown",
   "metadata": {},
   "source": [
    "# test"
   ]
  },
  {
   "cell_type": "code",
   "execution_count": 11,
   "metadata": {},
   "outputs": [],
   "source": [
    "test_df = pd.read_csv(\"../KNN_Imputation/test_imputed.csv\")"
   ]
  },
  {
   "cell_type": "code",
   "execution_count": 12,
   "metadata": {},
   "outputs": [],
   "source": [
    "test_pred_lgbm = lgbm_inference.inference(test_df)\n",
    "test_pred_mlp = MLP_inference.inference(test_df)\n",
    "test_pred_rf = RFR_inference.inference(test_df)\n",
    "test_pred_xgb = xgb_inference.inference(test_df)"
   ]
  },
  {
   "cell_type": "code",
   "execution_count": 13,
   "metadata": {},
   "outputs": [],
   "source": [
    "test_X_meta = np.column_stack((\n",
    "    test_pred_lgbm,\n",
    "    test_pred_mlp,\n",
    "    test_pred_rf,\n",
    "    test_pred_xgb,\n",
    "))"
   ]
  },
  {
   "cell_type": "code",
   "execution_count": 14,
   "metadata": {},
   "outputs": [],
   "source": [
    "predictions = meta_model.predict(test_X_meta)"
   ]
  },
  {
   "cell_type": "code",
   "execution_count": 16,
   "metadata": {},
   "outputs": [
    {
     "data": {
      "text/html": [
       "<div>\n",
       "<style scoped>\n",
       "    .dataframe tbody tr th:only-of-type {\n",
       "        vertical-align: middle;\n",
       "    }\n",
       "\n",
       "    .dataframe tbody tr th {\n",
       "        vertical-align: top;\n",
       "    }\n",
       "\n",
       "    .dataframe thead th {\n",
       "        text-align: right;\n",
       "    }\n",
       "</style>\n",
       "<table border=\"1\" class=\"dataframe\">\n",
       "  <thead>\n",
       "    <tr style=\"text-align: right;\">\n",
       "      <th></th>\n",
       "      <th>Employee ID</th>\n",
       "      <th>Burn Rate</th>\n",
       "    </tr>\n",
       "  </thead>\n",
       "  <tbody>\n",
       "    <tr>\n",
       "      <th>0</th>\n",
       "      <td>0</td>\n",
       "      <td>0.002920</td>\n",
       "    </tr>\n",
       "    <tr>\n",
       "      <th>1</th>\n",
       "      <td>1</td>\n",
       "      <td>0.735057</td>\n",
       "    </tr>\n",
       "    <tr>\n",
       "      <th>2</th>\n",
       "      <td>2</td>\n",
       "      <td>0.773233</td>\n",
       "    </tr>\n",
       "    <tr>\n",
       "      <th>3</th>\n",
       "      <td>3</td>\n",
       "      <td>0.415981</td>\n",
       "    </tr>\n",
       "    <tr>\n",
       "      <th>4</th>\n",
       "      <td>4</td>\n",
       "      <td>0.464116</td>\n",
       "    </tr>\n",
       "    <tr>\n",
       "      <th>...</th>\n",
       "      <td>...</td>\n",
       "      <td>...</td>\n",
       "    </tr>\n",
       "    <tr>\n",
       "      <th>1975</th>\n",
       "      <td>1975</td>\n",
       "      <td>0.187367</td>\n",
       "    </tr>\n",
       "    <tr>\n",
       "      <th>1976</th>\n",
       "      <td>1976</td>\n",
       "      <td>0.449295</td>\n",
       "    </tr>\n",
       "    <tr>\n",
       "      <th>1977</th>\n",
       "      <td>1977</td>\n",
       "      <td>0.346039</td>\n",
       "    </tr>\n",
       "    <tr>\n",
       "      <th>1978</th>\n",
       "      <td>1978</td>\n",
       "      <td>0.569244</td>\n",
       "    </tr>\n",
       "    <tr>\n",
       "      <th>1979</th>\n",
       "      <td>1979</td>\n",
       "      <td>0.523703</td>\n",
       "    </tr>\n",
       "  </tbody>\n",
       "</table>\n",
       "<p>1980 rows × 2 columns</p>\n",
       "</div>"
      ],
      "text/plain": [
       "      Employee ID  Burn Rate\n",
       "0               0   0.002920\n",
       "1               1   0.735057\n",
       "2               2   0.773233\n",
       "3               3   0.415981\n",
       "4               4   0.464116\n",
       "...           ...        ...\n",
       "1975         1975   0.187367\n",
       "1976         1976   0.449295\n",
       "1977         1977   0.346039\n",
       "1978         1978   0.569244\n",
       "1979         1979   0.523703\n",
       "\n",
       "[1980 rows x 2 columns]"
      ]
     },
     "execution_count": 16,
     "metadata": {},
     "output_type": "execute_result"
    }
   ],
   "source": [
    "submission_df = pd.DataFrame({\n",
    "    'Employee ID': test_df['Employee ID'],\n",
    "    'Burn Rate': predictions\n",
    "})\n",
    "submission_df"
   ]
  },
  {
   "cell_type": "code",
   "execution_count": 17,
   "metadata": {},
   "outputs": [],
   "source": [
    "submission_df.to_csv('stacking_v0.csv', index=False)"
   ]
  }
 ],
 "metadata": {
  "kernelspec": {
   "display_name": ".venv312",
   "language": "python",
   "name": "python3"
  },
  "language_info": {
   "codemirror_mode": {
    "name": "ipython",
    "version": 3
   },
   "file_extension": ".py",
   "mimetype": "text/x-python",
   "name": "python",
   "nbconvert_exporter": "python",
   "pygments_lexer": "ipython3",
   "version": "3.12.0"
  }
 },
 "nbformat": 4,
 "nbformat_minor": 2
}
